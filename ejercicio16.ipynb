{
  "nbformat": 4,
  "nbformat_minor": 0,
  "metadata": {
    "colab": {
      "name": "ejercicio16.ipynb",
      "provenance": [],
      "authorship_tag": "ABX9TyMeqyjDdNJjJJJ5s3UhTrZr",
      "include_colab_link": true
    },
    "kernelspec": {
      "name": "python3",
      "display_name": "Python 3"
    },
    "language_info": {
      "name": "python"
    }
  },
  "cells": [
    {
      "cell_type": "markdown",
      "metadata": {
        "id": "view-in-github",
        "colab_type": "text"
      },
      "source": [
        "<a href=\"https://colab.research.google.com/github/NurGal/EjercicioPyton/blob/main/ejercicio16.ipynb\" target=\"_parent\"><img src=\"https://colab.research.google.com/assets/colab-badge.svg\" alt=\"Open In Colab\"/></a>"
      ]
    },
    {
      "cell_type": "code",
      "execution_count": 17,
      "metadata": {
        "colab": {
          "base_uri": "https://localhost:8080/"
        },
        "id": "6uLOO6gjYVSG",
        "outputId": "da794772-13cc-4c99-bd6e-385d8183779f"
      },
      "outputs": [
        {
          "output_type": "stream",
          "name": "stdout",
          "text": [
            "Ingrese verdad o false: True\n",
            "es verdad\n"
          ]
        }
      ],
      "source": [
        "x = bool(input(\"Ingrese verdad o false: \"))\n",
        "\n",
        "\n",
        "if x == True:\n",
        "   print(\"es verdad\")\n",
        "else:\n",
        "  print(\"es falso\")"
      ]
    },
    {
      "cell_type": "code",
      "source": [
        "x = input(\"Ingrese verdad o false: \")\n",
        "\n",
        "if x == \"verdad\":\n",
        "  print(\"es verdad\")\n",
        "elif x == \"false\":\n",
        "  print(\"es false\")\n",
        "else:\n",
        "   print(\"no encontrado\")"
      ],
      "metadata": {
        "colab": {
          "base_uri": "https://localhost:8080/"
        },
        "id": "SkWVstUDgOBI",
        "outputId": "15856506-4869-435b-d282-f3256a1f7303"
      },
      "execution_count": 19,
      "outputs": [
        {
          "output_type": "stream",
          "name": "stdout",
          "text": [
            "Ingrese verdad o false: elif\n",
            "no encontrado\n"
          ]
        }
      ]
    },
    {
      "cell_type": "code",
      "source": [
        ""
      ],
      "metadata": {
        "id": "V65R9dL2iEyW"
      },
      "execution_count": null,
      "outputs": []
    },
    {
      "cell_type": "code",
      "source": [
        "x = int(input(\"Ingrese 1 o 2: \"))\n",
        "\n",
        "if x == 1:\n",
        "  print(\"es verdad\")\n",
        "elif x == 2:\n",
        "  print(\"es false\")\n",
        "else:\n",
        "   print(\"no encontrado\")"
      ],
      "metadata": {
        "colab": {
          "base_uri": "https://localhost:8080/"
        },
        "outputId": "a6b29b7e-f3b4-446f-a89d-fa670caed733",
        "id": "_ruNLWviiKpM"
      },
      "execution_count": 25,
      "outputs": [
        {
          "output_type": "stream",
          "name": "stdout",
          "text": [
            "Ingrese 1 o 2: 2\n",
            "es false\n"
          ]
        }
      ]
    },
    {
      "cell_type": "code",
      "source": [
        "x = int(input(\"Ingrese 1 o 2: \"))\n",
        "if x == 1 or x == 2:\n",
        "  print(\"es verdad\")\n",
        "else:\n",
        "   print(\"no encontrado\")"
      ],
      "metadata": {
        "colab": {
          "base_uri": "https://localhost:8080/"
        },
        "id": "1WTKQ7hzko-Q",
        "outputId": "8f2516e3-c3a6-4b15-fd80-eb3795521da0"
      },
      "execution_count": 29,
      "outputs": [
        {
          "output_type": "stream",
          "name": "stdout",
          "text": [
            "Ingrese 1 o 2: 3\n",
            "no encontrado\n"
          ]
        }
      ]
    },
    {
      "cell_type": "code",
      "source": [
        "x = int(input(\"Ingrese 1 o 2: \"))\n",
        "if x <= 1 and x <= 2:\n",
        "  print(\"es verdad\")\n",
        "else:\n",
        "   print(\"no encontrado\")\n"
      ],
      "metadata": {
        "colab": {
          "base_uri": "https://localhost:8080/"
        },
        "id": "UDrRfTASlAtq",
        "outputId": "1b32379e-8d8b-4dd1-a651-8e2b899b40e4"
      },
      "execution_count": 38,
      "outputs": [
        {
          "output_type": "stream",
          "name": "stdout",
          "text": [
            "Ingrese 1 o 2: 2\n",
            "no encontrado\n"
          ]
        }
      ]
    },
    {
      "cell_type": "code",
      "source": [
        "numero = 2\n",
        "while numero < 100:\n",
        "  numero = numero * 2\n",
        "  print(numero)\n",
        "\n"
      ],
      "metadata": {
        "colab": {
          "base_uri": "https://localhost:8080/"
        },
        "id": "0GDQ_JtVitL-",
        "outputId": "97ae97dd-86a1-492f-d05f-25d460164925"
      },
      "execution_count": 45,
      "outputs": [
        {
          "output_type": "stream",
          "name": "stdout",
          "text": [
            "4\n",
            "8\n",
            "16\n",
            "32\n",
            "64\n",
            "128\n"
          ]
        }
      ]
    },
    {
      "cell_type": "code",
      "source": [
        "x = int(input(\"ingrese el valor del examen 0 a 10\"))\n",
        "if x >= 9 and x <= 10:\n",
        "  print(\"A\")\n",
        "elif x >= 8 and x < 9:\n",
        "    print(\"B\")\n",
        "elif x >= 7 and x < 8:\n",
        "  print(\"C\")\n",
        "elif x >= 6 and x < 7:\n",
        "  print(\"D\")\n",
        "elif x >= 0 and x < 6:\n",
        "    print(\"F\")\n",
        "else:\n",
        "    print(\"Valor incorrecto\")"
      ],
      "metadata": {
        "colab": {
          "base_uri": "https://localhost:8080/"
        },
        "id": "CS1TjP6Wtoj9",
        "outputId": "ab02f9f5-275a-4218-f799-e8b0681c76e6"
      },
      "execution_count": 53,
      "outputs": [
        {
          "output_type": "stream",
          "name": "stdout",
          "text": [
            "ingrese el valor del examen 0 a 106\n",
            "D\n"
          ]
        }
      ]
    },
    {
      "cell_type": "code",
      "source": [
        "entero = 0\n",
        "while entero < 5:\n",
        "  entero = entero + 1\n",
        "  print(entero)"
      ],
      "metadata": {
        "colab": {
          "base_uri": "https://localhost:8080/"
        },
        "id": "bd9zCxMJ_Vsm",
        "outputId": "2940d363-a4b1-481b-81ef-65895f7b22c1"
      },
      "execution_count": 58,
      "outputs": [
        {
          "output_type": "stream",
          "name": "stdout",
          "text": [
            "1\n",
            "2\n",
            "3\n",
            "4\n",
            "5\n"
          ]
        }
      ]
    },
    {
      "cell_type": "markdown",
      "source": [
        ""
      ],
      "metadata": {
        "id": "kN87sCsgGjY6"
      }
    },
    {
      "cell_type": "code",
      "source": [
        "cadena = \"hola\"\n",
        "\n",
        "for c in cadena:\n",
        "  print(c)\n",
        "else:\n",
        "  print(\"fin del ciclo for\")"
      ],
      "metadata": {
        "colab": {
          "base_uri": "https://localhost:8080/"
        },
        "id": "1jaSBkx5Djn7",
        "outputId": "21cc8131-77b3-4aa2-cdae-90c1cf9d6703"
      },
      "execution_count": 60,
      "outputs": [
        {
          "output_type": "stream",
          "name": "stdout",
          "text": [
            "h\n",
            "o\n",
            "l\n",
            "a\n",
            "fin del ciclo for\n"
          ]
        }
      ]
    },
    {
      "cell_type": "code",
      "source": [
        "for i in \"holanda\":\n",
        "  if i== \"a\":\n",
        "    print(f\"letra encontrada: (i)\")\n",
        "    break\n",
        "  else:\n",
        "    print(\"fin del ciclo\")"
      ],
      "metadata": {
        "colab": {
          "base_uri": "https://localhost:8080/"
        },
        "id": "0gnw2iIgLouw",
        "outputId": "de0af8cd-f9b9-4d1a-96d9-c6ed09040191"
      },
      "execution_count": 93,
      "outputs": [
        {
          "output_type": "stream",
          "name": "stdout",
          "text": [
            "fin del ciclo\n",
            "fin del ciclo\n",
            "fin del ciclo\n",
            "letra encontrada: (i)\n"
          ]
        }
      ]
    },
    {
      "cell_type": "code",
      "source": [
        ""
      ],
      "metadata": {
        "id": "nyyAT3JNnKF3"
      },
      "execution_count": null,
      "outputs": []
    },
    {
      "cell_type": "code",
      "source": [
        "for i in range(6):\n",
        "  if i % 2 != 0 :\n",
        "    #continue\n",
        "    print(f\"letra encontrada: {i}\")"
      ],
      "metadata": {
        "colab": {
          "base_uri": "https://localhost:8080/"
        },
        "id": "qWEpzZuvOm-k",
        "outputId": "92ab64c7-0bd2-4d35-fb52-b8a4cf5ca393"
      },
      "execution_count": 86,
      "outputs": [
        {
          "output_type": "stream",
          "name": "stdout",
          "text": [
            "letra encontrada: 1\n",
            "letra encontrada: 3\n",
            "letra encontrada: 5\n"
          ]
        }
      ]
    },
    {
      "cell_type": "code",
      "source": [
        "i = 0\n",
        "while i < 6:\n",
        "  i += 1\n",
        "  if i == 3:\n",
        "    continue\n",
        "  print(i)"
      ],
      "metadata": {
        "colab": {
          "base_uri": "https://localhost:8080/"
        },
        "id": "r7214I9-eXLT",
        "outputId": "9b4313b7-2225-412d-bc75-8582884d0439"
      },
      "execution_count": 90,
      "outputs": [
        {
          "output_type": "stream",
          "name": "stdout",
          "text": [
            "1\n",
            "2\n",
            "4\n",
            "5\n",
            "6\n"
          ]
        }
      ]
    },
    {
      "cell_type": "code",
      "source": [
        "for n in range(10):\n",
        "  if n % 3 == 0 :\n",
        "    print(f\"numero divisible entre 3: {n}\")\n",
        "\n"
      ],
      "metadata": {
        "colab": {
          "base_uri": "https://localhost:8080/"
        },
        "id": "aSm1yvTxlAmH",
        "outputId": "feaaaecc-646a-4418-d095-54555ff7cddf"
      },
      "execution_count": 92,
      "outputs": [
        {
          "output_type": "stream",
          "name": "stdout",
          "text": [
            "numero divisible entre 3: 0\n",
            "numero divisible entre 3: 3\n",
            "numero divisible entre 3: 6\n",
            "numero divisible entre 3: 9\n"
          ]
        }
      ]
    },
    {
      "cell_type": "code",
      "source": [
        "for n in range (2,7):\n",
        "  print(f\"resultado:{n}\")\n",
        "\n"
      ],
      "metadata": {
        "colab": {
          "base_uri": "https://localhost:8080/"
        },
        "id": "7A9c--LAszGf",
        "outputId": "4c4e6d49-826c-46fe-f680-6b7abfd4ad32"
      },
      "execution_count": 99,
      "outputs": [
        {
          "output_type": "stream",
          "name": "stdout",
          "text": [
            "resultado:2\n",
            "resultado:3\n",
            "resultado:4\n",
            "resultado:5\n",
            "resultado:6\n"
          ]
        }
      ]
    },
    {
      "cell_type": "code",
      "source": [
        "for n in range(3, 11, 2):\n",
        "  print(f\"fin de operacion {n}\")"
      ],
      "metadata": {
        "colab": {
          "base_uri": "https://localhost:8080/"
        },
        "id": "H-LzO7xFxal-",
        "outputId": "c38b0719-16f6-4eac-a36e-2b22cce23543"
      },
      "execution_count": 101,
      "outputs": [
        {
          "output_type": "stream",
          "name": "stdout",
          "text": [
            "fin de operacion 3\n",
            "fin de operacion 5\n",
            "fin de operacion 7\n",
            "fin de operacion 9\n"
          ]
        }
      ]
    }
  ]
}