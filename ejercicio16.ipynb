{
  "nbformat": 4,
  "nbformat_minor": 0,
  "metadata": {
    "colab": {
      "name": "ejercicio16.ipynb",
      "provenance": [],
      "authorship_tag": "ABX9TyPjLzfgHMZXW6O7/w93DIvE",
      "include_colab_link": true
    },
    "kernelspec": {
      "name": "python3",
      "display_name": "Python 3"
    },
    "language_info": {
      "name": "python"
    }
  },
  "cells": [
    {
      "cell_type": "markdown",
      "metadata": {
        "id": "view-in-github",
        "colab_type": "text"
      },
      "source": [
        "<a href=\"https://colab.research.google.com/github/NurGal/EjercicioPyton/blob/main/ejercicio16.ipynb\" target=\"_parent\"><img src=\"https://colab.research.google.com/assets/colab-badge.svg\" alt=\"Open In Colab\"/></a>"
      ]
    },
    {
      "cell_type": "code",
      "execution_count": null,
      "metadata": {
        "colab": {
          "base_uri": "https://localhost:8080/"
        },
        "id": "6uLOO6gjYVSG",
        "outputId": "da794772-13cc-4c99-bd6e-385d8183779f"
      },
      "outputs": [
        {
          "output_type": "stream",
          "name": "stdout",
          "text": [
            "Ingrese verdad o false: True\n",
            "es verdad\n"
          ]
        }
      ],
      "source": [
        "x = bool(input(\"Ingrese verdad o false: \"))\n",
        "\n",
        "\n",
        "if x == True:\n",
        "   print(\"es verdad\")\n",
        "else:\n",
        "  print(\"es falso\")"
      ]
    },
    {
      "cell_type": "code",
      "source": [
        "x = input(\"Ingrese verdad o false: \")\n",
        "\n",
        "if x == \"verdad\":\n",
        "  print(\"es verdad\")\n",
        "elif x == \"false\":\n",
        "  print(\"es false\")\n",
        "else:\n",
        "   print(\"no encontrado\")"
      ],
      "metadata": {
        "colab": {
          "base_uri": "https://localhost:8080/"
        },
        "id": "SkWVstUDgOBI",
        "outputId": "15856506-4869-435b-d282-f3256a1f7303"
      },
      "execution_count": null,
      "outputs": [
        {
          "output_type": "stream",
          "name": "stdout",
          "text": [
            "Ingrese verdad o false: elif\n",
            "no encontrado\n"
          ]
        }
      ]
    },
    {
      "cell_type": "code",
      "source": [
        ""
      ],
      "metadata": {
        "id": "V65R9dL2iEyW"
      },
      "execution_count": null,
      "outputs": []
    },
    {
      "cell_type": "code",
      "source": [
        "x = int(input(\"Ingrese 1 o 2: \"))\n",
        "\n",
        "if x == 1:\n",
        "  print(\"es verdad\")\n",
        "elif x == 2:\n",
        "  print(\"es false\")\n",
        "else:\n",
        "   print(\"no encontrado\")"
      ],
      "metadata": {
        "colab": {
          "base_uri": "https://localhost:8080/"
        },
        "outputId": "a6b29b7e-f3b4-446f-a89d-fa670caed733",
        "id": "_ruNLWviiKpM"
      },
      "execution_count": null,
      "outputs": [
        {
          "output_type": "stream",
          "name": "stdout",
          "text": [
            "Ingrese 1 o 2: 2\n",
            "es false\n"
          ]
        }
      ]
    },
    {
      "cell_type": "code",
      "source": [
        "x = int(input(\"Ingrese 1 o 2: \"))\n",
        "if x == 1 or x == 2:\n",
        "  print(\"es verdad\")\n",
        "else:\n",
        "   print(\"no encontrado\")"
      ],
      "metadata": {
        "colab": {
          "base_uri": "https://localhost:8080/"
        },
        "id": "1WTKQ7hzko-Q",
        "outputId": "8f2516e3-c3a6-4b15-fd80-eb3795521da0"
      },
      "execution_count": null,
      "outputs": [
        {
          "output_type": "stream",
          "name": "stdout",
          "text": [
            "Ingrese 1 o 2: 3\n",
            "no encontrado\n"
          ]
        }
      ]
    },
    {
      "cell_type": "code",
      "source": [
        "x = int(input(\"Ingrese 1 o 2: \"))\n",
        "if x <= 1 and x <= 2:\n",
        "  print(\"es verdad\")\n",
        "else:\n",
        "   print(\"no encontrado\")\n"
      ],
      "metadata": {
        "colab": {
          "base_uri": "https://localhost:8080/"
        },
        "id": "UDrRfTASlAtq",
        "outputId": "1b32379e-8d8b-4dd1-a651-8e2b899b40e4"
      },
      "execution_count": null,
      "outputs": [
        {
          "output_type": "stream",
          "name": "stdout",
          "text": [
            "Ingrese 1 o 2: 2\n",
            "no encontrado\n"
          ]
        }
      ]
    },
    {
      "cell_type": "code",
      "source": [
        "numero = 2\n",
        "while numero < 100:\n",
        "  numero = numero * 2\n",
        "  print(numero)\n",
        "\n"
      ],
      "metadata": {
        "colab": {
          "base_uri": "https://localhost:8080/"
        },
        "id": "0GDQ_JtVitL-",
        "outputId": "97ae97dd-86a1-492f-d05f-25d460164925"
      },
      "execution_count": null,
      "outputs": [
        {
          "output_type": "stream",
          "name": "stdout",
          "text": [
            "4\n",
            "8\n",
            "16\n",
            "32\n",
            "64\n",
            "128\n"
          ]
        }
      ]
    },
    {
      "cell_type": "code",
      "source": [
        "x = int(input(\"ingrese el valor del examen 0 a 10\"))\n",
        "if x >= 9 and x <= 10:\n",
        "  print(\"A\")\n",
        "elif x >= 8 and x < 9:\n",
        "    print(\"B\")\n",
        "elif x >= 7 and x < 8:\n",
        "  print(\"C\")\n",
        "elif x >= 6 and x < 7:\n",
        "  print(\"D\")\n",
        "elif x >= 0 and x < 6:\n",
        "    print(\"F\")\n",
        "else:\n",
        "    print(\"Valor incorrecto\")"
      ],
      "metadata": {
        "colab": {
          "base_uri": "https://localhost:8080/"
        },
        "id": "CS1TjP6Wtoj9",
        "outputId": "ab02f9f5-275a-4218-f799-e8b0681c76e6"
      },
      "execution_count": null,
      "outputs": [
        {
          "output_type": "stream",
          "name": "stdout",
          "text": [
            "ingrese el valor del examen 0 a 106\n",
            "D\n"
          ]
        }
      ]
    },
    {
      "cell_type": "code",
      "source": [
        "entero = 0\n",
        "while entero < 5:\n",
        "  entero = entero + 1\n",
        "  print(entero)"
      ],
      "metadata": {
        "colab": {
          "base_uri": "https://localhost:8080/"
        },
        "id": "bd9zCxMJ_Vsm",
        "outputId": "2940d363-a4b1-481b-81ef-65895f7b22c1"
      },
      "execution_count": null,
      "outputs": [
        {
          "output_type": "stream",
          "name": "stdout",
          "text": [
            "1\n",
            "2\n",
            "3\n",
            "4\n",
            "5\n"
          ]
        }
      ]
    },
    {
      "cell_type": "markdown",
      "source": [
        ""
      ],
      "metadata": {
        "id": "kN87sCsgGjY6"
      }
    },
    {
      "cell_type": "code",
      "source": [
        "cadena = \"hola\"\n",
        "\n",
        "for c in cadena:\n",
        "  print(c)\n",
        "else:\n",
        "  print(\"fin del ciclo for\")"
      ],
      "metadata": {
        "colab": {
          "base_uri": "https://localhost:8080/"
        },
        "id": "1jaSBkx5Djn7",
        "outputId": "21cc8131-77b3-4aa2-cdae-90c1cf9d6703"
      },
      "execution_count": null,
      "outputs": [
        {
          "output_type": "stream",
          "name": "stdout",
          "text": [
            "h\n",
            "o\n",
            "l\n",
            "a\n",
            "fin del ciclo for\n"
          ]
        }
      ]
    },
    {
      "cell_type": "code",
      "source": [
        "for i in \"holanda\":\n",
        "  if i== \"a\":\n",
        "    print(f\"letra encontrada: (i)\")\n",
        "    break\n",
        "  else:\n",
        "    print(\"fin del ciclo\")"
      ],
      "metadata": {
        "colab": {
          "base_uri": "https://localhost:8080/"
        },
        "id": "0gnw2iIgLouw",
        "outputId": "de0af8cd-f9b9-4d1a-96d9-c6ed09040191"
      },
      "execution_count": null,
      "outputs": [
        {
          "output_type": "stream",
          "name": "stdout",
          "text": [
            "fin del ciclo\n",
            "fin del ciclo\n",
            "fin del ciclo\n",
            "letra encontrada: (i)\n"
          ]
        }
      ]
    },
    {
      "cell_type": "code",
      "source": [
        ""
      ],
      "metadata": {
        "id": "nyyAT3JNnKF3"
      },
      "execution_count": null,
      "outputs": []
    },
    {
      "cell_type": "code",
      "source": [
        "for i in range(6):\n",
        "  if i % 2 != 0 :\n",
        "    #continue\n",
        "    print(f\"letra encontrada: {i}\")"
      ],
      "metadata": {
        "colab": {
          "base_uri": "https://localhost:8080/"
        },
        "id": "qWEpzZuvOm-k",
        "outputId": "92ab64c7-0bd2-4d35-fb52-b8a4cf5ca393"
      },
      "execution_count": null,
      "outputs": [
        {
          "output_type": "stream",
          "name": "stdout",
          "text": [
            "letra encontrada: 1\n",
            "letra encontrada: 3\n",
            "letra encontrada: 5\n"
          ]
        }
      ]
    },
    {
      "cell_type": "code",
      "source": [
        "i = 0\n",
        "while i < 6:\n",
        "  i += 1\n",
        "  if i == 3:\n",
        "    continue\n",
        "  print(i)"
      ],
      "metadata": {
        "colab": {
          "base_uri": "https://localhost:8080/"
        },
        "id": "r7214I9-eXLT",
        "outputId": "9b4313b7-2225-412d-bc75-8582884d0439"
      },
      "execution_count": null,
      "outputs": [
        {
          "output_type": "stream",
          "name": "stdout",
          "text": [
            "1\n",
            "2\n",
            "4\n",
            "5\n",
            "6\n"
          ]
        }
      ]
    },
    {
      "cell_type": "code",
      "source": [
        "for n in range(10):\n",
        "  if n % 3 == 0 :\n",
        "    print(f\"numero divisible entre 3: {n}\")\n",
        "\n"
      ],
      "metadata": {
        "colab": {
          "base_uri": "https://localhost:8080/"
        },
        "id": "aSm1yvTxlAmH",
        "outputId": "feaaaecc-646a-4418-d095-54555ff7cddf"
      },
      "execution_count": null,
      "outputs": [
        {
          "output_type": "stream",
          "name": "stdout",
          "text": [
            "numero divisible entre 3: 0\n",
            "numero divisible entre 3: 3\n",
            "numero divisible entre 3: 6\n",
            "numero divisible entre 3: 9\n"
          ]
        }
      ]
    },
    {
      "cell_type": "code",
      "source": [
        "for n in range (2,7):\n",
        "  print(f\"resultado:{n}\") o print(n)\n",
        "\n"
      ],
      "metadata": {
        "colab": {
          "base_uri": "https://localhost:8080/"
        },
        "id": "7A9c--LAszGf",
        "outputId": "4c4e6d49-826c-46fe-f680-6b7abfd4ad32"
      },
      "execution_count": null,
      "outputs": [
        {
          "output_type": "stream",
          "name": "stdout",
          "text": [
            "resultado:2\n",
            "resultado:3\n",
            "resultado:4\n",
            "resultado:5\n",
            "resultado:6\n"
          ]
        }
      ]
    },
    {
      "cell_type": "code",
      "source": [
        "for n in range(3, 10, 2):\n",
        "  print(f\"fin de operacion {n}\")"
      ],
      "metadata": {
        "colab": {
          "base_uri": "https://localhost:8080/"
        },
        "id": "H-LzO7xFxal-",
        "outputId": "8819347a-de04-4195-d997-0e12dfc002fe"
      },
      "execution_count": 1,
      "outputs": [
        {
          "output_type": "stream",
          "name": "stdout",
          "text": [
            "fin de operacion 3\n",
            "fin de operacion 5\n",
            "fin de operacion 7\n",
            "fin de operacion 9\n"
          ]
        }
      ]
    },
    {
      "cell_type": "code",
      "source": [
        "for n in range(0, 20, 4):\n",
        "  print(f\"resultado {n}\")"
      ],
      "metadata": {
        "id": "DLxzuoRCdELT",
        "outputId": "1a151e81-7505-46c2-ce74-add1f574aa3b",
        "colab": {
          "base_uri": "https://localhost:8080/"
        }
      },
      "execution_count": 2,
      "outputs": [
        {
          "output_type": "stream",
          "name": "stdout",
          "text": [
            "resultado 0\n",
            "resultado 4\n",
            "resultado 8\n",
            "resultado 12\n",
            "resultado 16\n"
          ]
        }
      ]
    },
    {
      "cell_type": "code",
      "source": [
        "nombres = [\"Alicia\",\"Chantell\",\"Roxana\",\"Oliris\"]\n",
        "print(nombres[0:2])\n",
        "print(nombres[:3])\n",
        "print(nombres[1:])"
      ],
      "metadata": {
        "id": "HHnCxbCyg6f_",
        "outputId": "8e8af4f1-f9c1-42f7-c0ff-d74686081cdf",
        "colab": {
          "base_uri": "https://localhost:8080/"
        }
      },
      "execution_count": 5,
      "outputs": [
        {
          "output_type": "stream",
          "name": "stdout",
          "text": [
            "['Alicia', 'Chantell']\n",
            "['Alicia', 'Chantell', 'Roxana']\n",
            "['Chantell', 'Roxana', 'Oliris']\n"
          ]
        }
      ]
    },
    {
      "cell_type": "code",
      "source": [
        "nombres = [\"Alicia\",\"Chantell\",\"Roxana\",\"Oliris\"]\n",
        "#Cambiar un valor\n",
        "nombres[3] = 'Ainara'\n",
        "print(nombres)"
      ],
      "metadata": {
        "id": "0gicg-ZCmBZ2",
        "outputId": "7728670e-1a07-4f46-a8c5-2032da8bd213",
        "colab": {
          "base_uri": "https://localhost:8080/"
        }
      },
      "execution_count": 6,
      "outputs": [
        {
          "output_type": "stream",
          "name": "stdout",
          "text": [
            "['Alicia', 'Chantell', 'Roxana', 'Ainara']\n"
          ]
        }
      ]
    },
    {
      "cell_type": "code",
      "source": [
        "nombres = [\"Alicia\",\"Chantell\",\"Roxana\",\"Oliris\"]\n",
        "#Cambiar un valor\n",
        "nombres[3] = 'Cristal'\n",
        "print(nombres)"
      ],
      "metadata": {
        "id": "7xy7S5lWmdXP",
        "outputId": "d6593736-10d6-4a99-e35f-1bdc9340d4e7",
        "colab": {
          "base_uri": "https://localhost:8080/"
        }
      },
      "execution_count": 7,
      "outputs": [
        {
          "output_type": "stream",
          "name": "stdout",
          "text": [
            "['Alicia', 'Chantell', 'Roxana', 'Cristal']\n"
          ]
        }
      ]
    },
    {
      "cell_type": "code",
      "source": [
        "# preguntar el largo de una lista\n",
        "print(len(nombres))\n"
      ],
      "metadata": {
        "id": "AJICJpahmrqk",
        "outputId": "705676bb-f0c8-4ab5-fb04-d409b7182eb4",
        "colab": {
          "base_uri": "https://localhost:8080/"
        }
      },
      "execution_count": 8,
      "outputs": [
        {
          "output_type": "stream",
          "name": "stdout",
          "text": [
            "4\n"
          ]
        }
      ]
    },
    {
      "cell_type": "code",
      "source": [
        "['Alicia', 'Chantell', 'Roxana', 'Ainara']\n",
        "# agregar un elemento\n",
        "nombres.append('Alicia')\n",
        "print(nombres)"
      ],
      "metadata": {
        "id": "lowxjRCSnA_s",
        "outputId": "e65a0f06-9ee2-4399-c474-f76315e8578a",
        "colab": {
          "base_uri": "https://localhost:8080/"
        }
      },
      "execution_count": 12,
      "outputs": [
        {
          "output_type": "stream",
          "name": "stdout",
          "text": [
            "['Alicia', 'Chantell', 'Roxana', 'Cristal', 'Alicia', 'Alicia', 'Alicia', 'Oliris', 'Alicia']\n"
          ]
        }
      ]
    },
    {
      "cell_type": "code",
      "source": [
        "['Alicia', 'Chantell', 'Roxana', 'Ainara']\n",
        "# agregar un elemento\n",
        "nombres.append('Oliris')\n",
        "print(nombres)"
      ],
      "metadata": {
        "id": "jirX58N0np8E",
        "outputId": "82fcfe10-b4cd-4372-cbdb-22c6437202ec",
        "colab": {
          "base_uri": "https://localhost:8080/"
        }
      },
      "execution_count": 13,
      "outputs": [
        {
          "output_type": "stream",
          "name": "stdout",
          "text": [
            "['Alicia', 'Chantell', 'Roxana', 'Cristal', 'Alicia', 'Alicia', 'Alicia', 'Oliris', 'Alicia', 'Oliris']\n"
          ]
        }
      ]
    },
    {
      "cell_type": "code",
      "source": [
        "# Definir una tupla\n",
        "frutas = ('Naranjas', 'Platano', 'Guayaba', 'Pera', 'Manzana')\n",
        "print(frutas)"
      ],
      "metadata": {
        "id": "w02akjy2tQrF",
        "outputId": "c1592679-d695-4994-e6af-c4d632594adb",
        "colab": {
          "base_uri": "https://localhost:8080/"
        }
      },
      "execution_count": 24,
      "outputs": [
        {
          "output_type": "stream",
          "name": "stdout",
          "text": [
            "('Naranjas', 'Platano', 'Guayaba', 'Pera', 'Manzana')\n"
          ]
        }
      ]
    },
    {
      "cell_type": "code",
      "source": [
        "frutas = ('Naranjas', 'Platano', 'Guayaba', 'Pera', 'Manzana')"
      ],
      "metadata": {
        "id": "rfa7ydrQwUIo"
      },
      "execution_count": null,
      "outputs": []
    },
    {
      "cell_type": "code",
      "source": [
        "#acceder a un elemnto\n",
        "print(frutas[4])"
      ],
      "metadata": {
        "id": "QyiJNWWkv9kQ",
        "outputId": "79bf84e4-d1f1-481b-df20-a5bab20f153b",
        "colab": {
          "base_uri": "https://localhost:8080/"
        }
      },
      "execution_count": 25,
      "outputs": [
        {
          "output_type": "stream",
          "name": "stdout",
          "text": [
            "Manzana\n"
          ]
        }
      ]
    },
    {
      "cell_type": "code",
      "source": [
        "print(frutas[-1])"
      ],
      "metadata": {
        "id": "DyWaYnrfwk0w",
        "outputId": "cae58061-5301-42d2-864f-ebcd612212fc",
        "colab": {
          "base_uri": "https://localhost:8080/"
        }
      },
      "execution_count": 26,
      "outputs": [
        {
          "output_type": "stream",
          "name": "stdout",
          "text": [
            "Manzana\n"
          ]
        }
      ]
    },
    {
      "cell_type": "code",
      "source": [
        "print(frutas[-3])"
      ],
      "metadata": {
        "id": "i4SSrVBTwrkO",
        "outputId": "339b8f55-5a89-43e7-bd1e-28a0d37a1c82",
        "colab": {
          "base_uri": "https://localhost:8080/"
        }
      },
      "execution_count": 28,
      "outputs": [
        {
          "output_type": "stream",
          "name": "stdout",
          "text": [
            "Guayaba\n"
          ]
        }
      ]
    },
    {
      "cell_type": "code",
      "source": [
        "frutas = ('Naranjas', 'Platano', 'Guayaba', 'Pera', 'Manzana')\n",
        "print(frutas[0:2])"
      ],
      "metadata": {
        "id": "pXB8aZ_aw1sR",
        "outputId": "212f82cb-d08a-4af9-8907-ed1df7bab703",
        "colab": {
          "base_uri": "https://localhost:8080/"
        }
      },
      "execution_count": 29,
      "outputs": [
        {
          "output_type": "stream",
          "name": "stdout",
          "text": [
            "('Naranjas', 'Platano')\n"
          ]
        }
      ]
    },
    {
      "cell_type": "code",
      "source": [
        "#cambiar valor tupla\n",
        "frutasLista = list(frutas)\n",
        "print(frutasLista)"
      ],
      "metadata": {
        "id": "bM8OJ7luxGBd",
        "outputId": "70465bd1-8473-447b-b30b-420949771cbf",
        "colab": {
          "base_uri": "https://localhost:8080/"
        }
      },
      "execution_count": 31,
      "outputs": [
        {
          "output_type": "stream",
          "name": "stdout",
          "text": [
            "['Naranjas', 'Platano', 'Guayaba', 'Pera', 'Manzana']\n"
          ]
        }
      ]
    },
    {
      "cell_type": "code",
      "source": [
        "frutasLista[0] = 'Mango'"
      ],
      "metadata": {
        "id": "zRiAOTHbzMfC"
      },
      "execution_count": 33,
      "outputs": []
    },
    {
      "cell_type": "code",
      "source": [
        "print(frutasLista)"
      ],
      "metadata": {
        "id": "arERdGkuzXwM",
        "outputId": "2354bc15-9e3c-4d2e-c158-468d3f9a3099",
        "colab": {
          "base_uri": "https://localhost:8080/"
        }
      },
      "execution_count": 34,
      "outputs": [
        {
          "output_type": "stream",
          "name": "stdout",
          "text": [
            "['Mango', 'Platano', 'Guayaba', 'Pera', 'Manzana']\n"
          ]
        }
      ]
    },
    {
      "cell_type": "code",
      "source": [
        "frutas = tuple(frutasLista)"
      ],
      "metadata": {
        "id": "hR8ilTt4zdOL"
      },
      "execution_count": 37,
      "outputs": []
    },
    {
      "cell_type": "code",
      "source": [
        "del frutas\n",
        "print(frutas)"
      ],
      "metadata": {
        "id": "JnwP7lHqzugX",
        "outputId": "7ee20153-2488-48d8-e39b-1e1f30a5b1c6",
        "colab": {
          "base_uri": "https://localhost:8080/",
          "height": 182
        }
      },
      "execution_count": 38,
      "outputs": [
        {
          "output_type": "error",
          "ename": "NameError",
          "evalue": "ignored",
          "traceback": [
            "\u001b[0;31m---------------------------------------------------------------------------\u001b[0m",
            "\u001b[0;31mNameError\u001b[0m                                 Traceback (most recent call last)",
            "\u001b[0;32m<ipython-input-38-84c60a28059c>\u001b[0m in \u001b[0;36m<module>\u001b[0;34m()\u001b[0m\n\u001b[1;32m      1\u001b[0m \u001b[0;32mdel\u001b[0m \u001b[0mfrutas\u001b[0m\u001b[0;34m\u001b[0m\u001b[0;34m\u001b[0m\u001b[0m\n\u001b[0;32m----> 2\u001b[0;31m \u001b[0mprint\u001b[0m\u001b[0;34m(\u001b[0m\u001b[0mfrutas\u001b[0m\u001b[0;34m)\u001b[0m\u001b[0;34m\u001b[0m\u001b[0;34m\u001b[0m\u001b[0m\n\u001b[0m",
            "\u001b[0;31mNameError\u001b[0m: name 'frutas' is not defined"
          ]
        }
      ]
    },
    {
      "cell_type": "code",
      "source": [
        ""
      ],
      "metadata": {
        "id": "3ao4bCbU0Yvd"
      },
      "execution_count": null,
      "outputs": []
    }
  ]
}