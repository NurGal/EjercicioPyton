{
  "nbformat": 4,
  "nbformat_minor": 0,
  "metadata": {
    "colab": {
      "name": "pruebao1.ipynb",
      "provenance": [],
      "authorship_tag": "ABX9TyNcIlveu/Zjqx1KoLay0UPe",
      "include_colab_link": true
    },
    "kernelspec": {
      "name": "python3",
      "display_name": "Python 3"
    },
    "language_info": {
      "name": "python"
    }
  },
  "cells": [
    {
      "cell_type": "markdown",
      "metadata": {
        "id": "view-in-github",
        "colab_type": "text"
      },
      "source": [
        "<a href=\"https://colab.research.google.com/github/NurGal/EjercicioPyton/blob/main/pruebao1.ipynb\" target=\"_parent\"><img src=\"https://colab.research.google.com/assets/colab-badge.svg\" alt=\"Open In Colab\"/></a>"
      ]
    },
    {
      "cell_type": "markdown",
      "source": [
        "#este es un comentario"
      ],
      "metadata": {
        "id": "l71FnGT3kxf9"
      }
    },
    {
      "cell_type": "markdown",
      "source": [
        "1. Mostrar por pantalla la suma de dos números"
      ],
      "metadata": {
        "id": "g8unh6q2lVdP"
      }
    },
    {
      "cell_type": "code",
      "source": [
        "numero1 = int(input(\"ingrese primer número:\"))"
      ],
      "metadata": {
        "colab": {
          "base_uri": "https://localhost:8080/"
        },
        "id": "iX_vGhW5lcy1",
        "outputId": "01ddf8e4-51a1-49b2-f9dc-18da5c65731d"
      },
      "execution_count": 8,
      "outputs": [
        {
          "name": "stdout",
          "output_type": "stream",
          "text": [
            "ingrese primer número:5\n"
          ]
        }
      ]
    },
    {
      "cell_type": "code",
      "source": [
        "numero2 = int(input(\"ingrese segundo número:\"))"
      ],
      "metadata": {
        "colab": {
          "base_uri": "https://localhost:8080/"
        },
        "id": "OJbBt1Lrl5Hz",
        "outputId": "7f1e1676-b2e7-4e61-ad8c-345a2d234461"
      },
      "execution_count": 9,
      "outputs": [
        {
          "name": "stdout",
          "output_type": "stream",
          "text": [
            "ingrese segundo número:3\n"
          ]
        }
      ]
    },
    {
      "cell_type": "code",
      "source": [
        "total =numero1 + numero2\n",
        "total\n",
        "print(total)"
      ],
      "metadata": {
        "colab": {
          "base_uri": "https://localhost:8080/"
        },
        "id": "Nf-BZhD5uXH_",
        "outputId": "5cde3904-b6cc-4a20-d8b1-321c8b21a151"
      },
      "execution_count": 10,
      "outputs": [
        {
          "output_type": "stream",
          "name": "stdout",
          "text": [
            "8\n"
          ]
        }
      ]
    }
  ]
}